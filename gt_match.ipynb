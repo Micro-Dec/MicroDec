{
 "cells": [
  {
   "cell_type": "code",
   "execution_count": 78,
   "metadata": {},
   "outputs": [
    {
     "name": "stdout",
     "output_type": "stream",
     "text": [
      "['g2', 'g2', 'g2', 'g2', 'g4', 'g4', 'g5', 'g2', 'g2', 'g3', 'g3', 'g1', 'g1']\n"
     ]
    }
   ],
   "source": [
    "def convert_column_to_list(column_data):\n",
    "    \n",
    "    result_list = [item.strip() for item in column_data.split('\\n') if item.strip()]\n",
    "    \n",
    "    return result_list\n",
    "\n",
    "column_data = \"\"\"\n",
    "g2\n",
    "g2\n",
    "g2\n",
    "g2\n",
    "g4\n",
    "g4\n",
    "g5\n",
    "g2\n",
    "g2\n",
    "g3\n",
    "g3\n",
    "g1\n",
    "g1\n",
    "\"\"\"\n",
    "converted_list = convert_column_to_list(column_data)\n",
    "print(converted_list)\n"
   ]
  },
  {
   "cell_type": "markdown",
   "metadata": {},
   "source": [
    "subset match - if results is equal OR subset of GT"
   ]
  },
  {
   "cell_type": "code",
   "execution_count": 90,
   "metadata": {},
   "outputs": [
    {
     "name": "stdout",
     "output_type": "stream",
     "text": [
      "Precision: 0.3026315789473684\n",
      "Recall: 0.5227272727272727\n",
      "F: 0.38333333333333336\n",
      "Matching Groups: 23\n",
      "total_groups_truth: 44\n",
      "total_groups_result: 76\n"
     ]
    }
   ],
   "source": [
    "from collections import defaultdict\n",
    "\n",
    "def get_group_indices(arr):\n",
    "    \n",
    "    groups = defaultdict(list)\n",
    "    for idx, label in enumerate(arr):\n",
    "        groups[label].append(idx)\n",
    "    return list(groups.values())#g4:[0,1],....\n",
    "\n",
    "def match_groups_by_index_pattern(truth, result):\n",
    "    \n",
    "    # Get groups by index pattern\n",
    "    truth_group_indices = get_group_indices(truth)#0:[0,1],....\n",
    "    result_group_indices = get_group_indices(result)\n",
    "    \n",
    "    matched_truth_groups = set()\n",
    "    matched_result_groups = set()\n",
    "    \n",
    "    matching_groups = 0\n",
    "    # For each group in truth, check if there is a corresponding group in result\n",
    "    for truth_group in truth_group_indices:\n",
    "        for result_group in result_group_indices:\n",
    "            if (set(truth_group) == set(result_group) or set(result_group).issubset(set(truth_group))) and \\\n",
    "            (tuple(truth_group) not in matched_truth_groups) and \\\n",
    "            (tuple(result_group) not in matched_result_groups):\n",
    "                matching_groups += 1\n",
    "                matched_truth_groups.add(tuple(truth_group))\n",
    "                matched_result_groups.add(tuple(result_group))\n",
    "\n",
    "    return matching_groups, len(truth_group_indices), len(result_group_indices)\n",
    "\n",
    "\n",
    "def calculate_precision_recall(truth, result):\n",
    "    \n",
    "    matching_groups, total_groups_truth, total_groups_result = match_groups_by_index_pattern(truth, result)\n",
    "    \n",
    "   \n",
    "    precision = matching_groups / total_groups_result if total_groups_result > 0 else 0\n",
    "    \n",
    "\n",
    "    recall = matching_groups / total_groups_truth if total_groups_truth > 0 else 0\n",
    "    \n",
    "    return precision, recall, matching_groups, total_groups_truth, total_groups_result\n",
    "\n",
    "# input\n",
    "y_true = ['g52', 'g45', 'g52', 'g52', 'g52', 'g52', 'g52', 'g52', 'g1', 'g1', 'g17', 'g14', 'g4', 'g45', 'g21', 'g45', 'g21', 'g14', 'g21', 'g45', 'g45', 'g14', 'g45', 'g21', 'g33', 'g45', 'g21', 'g4', 'g45', 'g45', 'g45', 'g51', 'g41', 'g41', 'g18', 'g5', 'g5', 'g31', 'g51', 'g21', 'g21', 'g14', 'g7', 'g28', 'g28', 'g30', 'g30', 'g30', 'g30', 'g30', 'g30', 'g27', 'g27', 'g43', 'g56', 'g5', 'g16', 'g56', 'g18', 'g18', 'g50', 'g32', 'g50', 'g18', 'g50', 'g49', 'g18', 'g18', 'g60', 'g60', 'g60', 'g60', 'g60', 'g49', 'g60', 'g39', 'g54', 'g49', 'g49', 'g21', 'g54', 'g48', 'g59', 'g59', 'g59', 'g34', 'g21', 'g48', 'g48', 'g59', 'g26', 'g19', 'g18', 'g18', 'g48', 'g21', 'g21', 'g42', 'g58', 'g58', 'g58', 'g58', 'g48', 'g21', 'g21', 'g22', 'g58', 'g48', 'g48', 'g1', 'g1', 'g48', 'g32', 'g5', 'g48', 'g48', 'g58', 'g1', 'g48', 'g48', 'g21', 'g58', 'g31', 'g1', 'g58', 'g48', 'g17', 'g48', 'g48', 'g48', 'g40', 'g48', 'g57', 'g57', 'g18', 'g48', 'g57', 'g3', 'g18', 'g18', 'g3', 'g57', 'g21', 'g47', 'g56', 'g47', 'g47', 'g47', 'g47', 'g47', 'g47', 'g47', 'g47', 'g47', 'g47', 'g47', 'g15', 'g46', 'g46', 'g46', 'g55', 'g46', 'g46', 'g55', 'g46', 'g46', 'g54', 'g54', 'g54', 'g54', 'g54', 'g54', 'g9', 'g53', 'g46', 'g53', 'g53', 'g53', 'g21', 'g10', 'g53', 'g3', 'g53', 'g53', 'g53', 'g53']\n",
    "\n",
    "y_pred =['g50', 'g44', 'g76', 'g68', 'g44', 'g6', 'g21', 'g36', 'g64', 'g33', 'g1', 'g5', 'g37', 'g48', 'g65', 'g8', 'g27', 'g29', 'g52', 'g2', 'g14', 'g71', 'g30', 'g19', 'g47', 'g77', 'g32', 'g13', 'g25', 'g14', 'g43', 'g43', 'g27', 'g27', 'g1', 'g14', 'g14', 'g73', 'g62', 'g39', 'g60', 'g36', 'g14', 'g12', 'g12', 'g36', 'g65', 'g61', 'g65', 'g23', 'g58', 'g9', 'g9', 'g59', 'g42', 'g7', 'g11', 'g33', 'g1', 'g35', 'g37', 'g48', 'g39', 'g39', 'g18', 'g27', 'g2', 'g26', 'g15', 'g15', 'g15', 'g14', 'g71', 'g30', 'g19', 'g27', 'g36', 'g13', 'g14', 'g50', 'g43', 'g36', 'g8', 'g32', 'g32', 'g37', 'g39', 'g45', 'g10', 'g37', 'g78', 'g75', 'g17', 'g17', 'g17', 'g23', 'g57', 'g3', 'g23', 'g3', 'g54', 'g41', 'g40', 'g69', 'g69', 'g69', 'g8', 'g49', 'g33', 'g1', 'g5', 'g37', 'g48', 'g39', 'g27', 'g2', 'g15', 'g34', 'g14', 'g30', 'g19', 'g38', 'g39', 'g32', 'g63', 'g13', 'g25', 'g14', 'g50', 'g43', 'g36', 'g21', 'g36', 'g72', 'g36', 'g36', 'g67', 'g43', 'g55', 'g79', 'g70', 'g30', 'g39', 'g65', 'g47', 'g42', 'g33', 'g37', 'g48', 'g39', 'g27', 'g16', 'g23', 'g2', 'g14', 'g26', 'g15', 'g14', 'g30', 'g19', 'g39', 'g13', 'g14', 'g50', 'g43', 'g43', 'g43', 'g29', 'g36', 'g43', 'g28', 'g36', 'g22', 'g20', 'g29', 'g74', 'g46', 'g66', 'g24', 'g43', 'g43', 'g73', 'g51', 'g14', 'g56', 'g68']\n",
    "\n",
    "\n",
    "\n",
    "\n",
    "\n",
    "\n",
    "\n",
    "precision, recall, matching_groups, total_groups_truth, total_groups_result = calculate_precision_recall(y_true, y_pred)\n",
    "\n",
    "f= 2*(precision * recall) / (precision + recall)\n",
    "print(f'Precision: {precision}')\n",
    "print(f'Recall: {recall}')\n",
    "print(f'F: {f}')\n",
    "#print(f'Accuracy: {a}')\n",
    "print(f'Matching Groups: {matching_groups}')\n",
    "print(f'total_groups_truth: {total_groups_truth}')\n",
    "print(f'total_groups_result: {total_groups_result}')\n"
   ]
  }
 ],
 "metadata": {
  "kernelspec": {
   "display_name": "maglenv",
   "language": "python",
   "name": "python3"
  },
  "language_info": {
   "codemirror_mode": {
    "name": "ipython",
    "version": 3
   },
   "file_extension": ".py",
   "mimetype": "text/x-python",
   "name": "python",
   "nbconvert_exporter": "python",
   "pygments_lexer": "ipython3",
   "version": "3.8.19"
  }
 },
 "nbformat": 4,
 "nbformat_minor": 2
}
