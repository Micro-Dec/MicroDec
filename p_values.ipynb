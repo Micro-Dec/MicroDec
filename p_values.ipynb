{
 "cells": [
  {
   "cell_type": "code",
   "execution_count": 22,
   "metadata": {},
   "outputs": [
    {
     "name": "stdout",
     "output_type": "stream",
     "text": [
      "test statistic: 2831.0\n",
      "P-value: 0.9991907726681851\n",
      "Average difference: 0.01811355194505494\n",
      "result is not statistically significant at the 0.05 level\n"
     ]
    }
   ],
   "source": [
    "import pandas as pd\n",
    "from scipy.stats import wilcoxon\n",
    "\n",
    "\n",
    "data = pd.read_csv('/Users/ahmedalsayed/Documents/word2vec/data/final_results/final_resutls_91apps_bert_gpt.csv')\n",
    "\n",
    "\n",
    "baseline = data['gpt_CMQ']\n",
    "our = data['o_CMQ']\n",
    "#two-sided\n",
    "# less means baseline resutls are less than our\n",
    "#greater means baseline resutls are greater than our , we use greater only with IFN (less is better)\n",
    "statistic, p_value = wilcoxon(baseline, our, alternative='less') \n",
    "\n",
    "\n",
    "#average \n",
    "average_difference = (baseline - our).mean()\n",
    "\n",
    "\n",
    "print(f\"test statistic: {statistic}\")\n",
    "print(f\"P-value: {p_value}\")\n",
    "print(f\"Average difference: {average_difference}\")\n",
    "if p_value < 0.001:\n",
    "    significance = \"resultis highly significant at the 0.001 level\"\n",
    "elif p_value < 0.01:\n",
    "    significance = \"result is significant at  0.01 level\"\n",
    "elif p_value < 0.05:\n",
    "    significance = \"result is significant at the 0.05 level\"\n",
    "else:\n",
    "    significance = \"result is not statistically significant at the 0.05 level\"\n",
    "\n",
    "print(significance)\n"
   ]
  }
 ],
 "metadata": {
  "kernelspec": {
   "display_name": "wordenv",
   "language": "python",
   "name": "python3"
  },
  "language_info": {
   "codemirror_mode": {
    "name": "ipython",
    "version": 3
   },
   "file_extension": ".py",
   "mimetype": "text/x-python",
   "name": "python",
   "nbconvert_exporter": "python",
   "pygments_lexer": "ipython3",
   "version": "3.8.19"
  }
 },
 "nbformat": 4,
 "nbformat_minor": 2
}
